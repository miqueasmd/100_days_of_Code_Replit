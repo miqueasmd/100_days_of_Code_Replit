{
 "cells": [
  {
   "cell_type": "markdown",
   "metadata": {},
   "source": [
    "# 🌟 Day 60 Challenge 🌟\n",
    "\n",
    "Today's challenge is an events countdown timer.\n",
    "\n",
    "\n",
    "### Task:\n",
    "Your program should:\n",
    "1. Automatically work out today's date.\n",
    "2. Prompt the user to input the name and date of their event (year, month, and day).\n",
    "3. Work out the number of days until the event and output it.\n",
    "4. If the event is happening today, insert some party emojis. 🎉🎊\n",
    "5. If the event was in the past, add sad face emojis and tell the user how many days ago it was. 😢\n",
    "\n",
    "\n",
    "### Example:\n",
    "\n",
    "🌟 **Event Countdown Timer** 🌟\n",
    "\n",
    "```plaintext\n",
    "Input the event > Nan's 100th birthday\n",
    "\n",
    "Input the year > 2022\n",
    "\n",
    "Input the month > 10\n",
    "\n",
    "Input the day > 16\n",
    "\n",
    "🎉🎉 Nan's 100th birthday is today! 🎉🎉\n",
    "```\n",
    "\n",
    "### Hints:\n",
    "1. Subtract today's date from the delta.\n",
    "2. What type of number will you get if the date has passed?"
   ]
  }
 ],
 "metadata": {
  "language_info": {
   "name": "python"
  }
 },
 "nbformat": 4,
 "nbformat_minor": 2
}
