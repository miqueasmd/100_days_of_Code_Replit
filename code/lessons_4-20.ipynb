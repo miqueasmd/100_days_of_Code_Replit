{
 "cells": [
  {
   "cell_type": "markdown",
   "metadata": {},
   "source": [
    "# Day 4\n",
    "\n",
    "# Sneaky Extra Skill\n",
    "\n",
    "You can jazz things up even more by changing the color of the text. Wow. We're quickly approaching the quality of output of a computer from 1981! 😬\n",
    "\n",
    "## How does it work?\n",
    "\n",
    "It's all just print statements, but using special codes that tell your console to start printing everything after this point in the new color. You will need to reset if you want to go back and change it in previous lessons.\n",
    "\n",
    "The somewhat random characters in the print argument are telling the computer to change the color of the next text output to whichever color you pick. You must add the number from the table below.\n",
    "\n",
    "| Color   | Value |\n",
    "|---------|-------|\n",
    "| Default | 0     |\n",
    "| Black   | 30    |\n",
    "| Red     | 31    |\n",
    "| Green   | 32    |\n",
    "| Yellow  | 33    |\n",
    "| Blue    | 34    |\n",
    "| Purple  | 35    |\n",
    "| Cyan    | 36    |\n",
    "| White   | 37    |\n",
    "\n",
    "## Example\n",
    "\n",
    "```python\n",
    "print(\"Uh, oh, you've been given a\", \"\\033[31m\", \"warning\", \"\\033[0m\", \"for being a bad, bad person.\")\n",
    "```"
   ]
  },
  {
   "cell_type": "code",
   "execution_count": 1,
   "metadata": {},
   "outputs": [
    {
     "name": "stdout",
     "output_type": "stream",
     "text": [
      "Uh, oh, you've been given a \u001b[31m warning \u001b[0m for being a bad, bad person.\n"
     ]
    }
   ],
   "source": [
    "print(\"Uh, oh, you've been given a\", \"\\033[31m\", \"warning\", \"\\033[0m\", \"for being a bad, bad person.\")"
   ]
  },
  {
   "cell_type": "code",
   "execution_count": 2,
   "metadata": {},
   "outputs": [
    {
     "name": "stdout",
     "output_type": "stream",
     "text": [
      "Welcome to your Adventure Story Simulator.\n",
      "\n",
      "I am going to ask you a bunch of questions and then create an epic story with you as the star.\n",
      "\n",
      "\n",
      "\n",
      "\n",
      "\n",
      "\n",
      "Hello miqueas Your ability to metesaca will make sure you never have to look at paco again.Go eat pizza as you walk down the streets of spain and use metesaca for good and not evil!\n"
     ]
    }
   ],
   "source": [
    "print(\"Welcome to your Adventure Story Simulator.\")\n",
    "print ()\n",
    "print(\"I am going to ask you a bunch of questions and then create an epic story with you as the star.\")\n",
    "\n",
    "print()\n",
    "name = input(\"What is your name? \")\n",
    "print()\n",
    "enemyName = input(\"What is your enemy's name? \")\n",
    "print()\n",
    "superPower = input(\"What is your super power? \")\n",
    "print()\n",
    "live = input(\"Where do you live? \")\n",
    "print()\n",
    "food = input(\"What is your favorite food? \")\n",
    "\n",
    "print()\n",
    "print(\"Hello\", name, \"Your ability to\", superPower, \"will make sure you never have to look at\", enemyName, \"again.\" \"Go eat\", food, \"as you walk down the streets of\", live, \"and use\", superPower, \"for good and not evil!\")"
   ]
  },
  {
   "cell_type": "markdown",
   "metadata": {},
   "source": [
    "# Day 5 Challenge\n",
    "\n",
    "\"Which character are you?\" Generator"
   ]
  },
  {
   "cell_type": "code",
   "execution_count": 5,
   "metadata": {},
   "outputs": [
    {
     "name": "stdout",
     "output_type": "stream",
     "text": [
      "Which character are you from 'Avengers?'\n",
      "\n",
      "Answer these questions and let's find out.\n",
      "\n",
      "Please use Y or N for yes and no.\n",
      "You have got to be Thor!\n"
     ]
    }
   ],
   "source": [
    "print(\"Which character are you from 'Avengers?'\")\n",
    "print()\n",
    "print(\"Answer these questions and let's find out.\")\n",
    "print()\n",
    "print(\"Please use Y or N for yes and no.\")\n",
    "\n",
    "likeGreen = input(\"Do you like the color green?: \")\n",
    "if likeGreen == \"Y\":\n",
    "  print(\"You must be the Hulk!\")\n",
    "\n",
    "IronIsCool = input(\"Do you think building robots is cool?: \")  \n",
    "if IronIsCool == \"Y\":\n",
    "  print(\"You must be Iron Man. Cool suit!\")\n",
    "\n",
    "TimeTravel = input(\"Do you like traveling through time?: \")  \n",
    "if TimeTravel == \"Y\":\n",
    "  print(\"You must be Captain America!\")\n",
    "\n",
    "Strong = input(\"Are you super strong?: \")\n",
    "if Strong == \"Y\":\n",
    "  print(\"You have got to be Thor!\")\n",
    "else:\n",
    "  print(\"I guess you are not like anyone from 'Avengers.'\")"
   ]
  },
  {
   "cell_type": "markdown",
   "metadata": {},
   "source": [
    "# Day 6 Challenge\n",
    "\n",
    "Make your own login program.\n",
    "\n",
    "Create a program where someone logins with their username and password correctly and then gets a lovely individual greeting.\n",
    "\n",
    "Write a specific personalized greeting for 3 different people.\n",
    "\n",
    "Don't forget an else statement for everyone else who shouldn't be logging in."
   ]
  },
  {
   "cell_type": "code",
   "execution_count": 7,
   "metadata": {},
   "outputs": [
    {
     "name": "stdout",
     "output_type": "stream",
     "text": [
      "Secure Login\n",
      "Welcome, David! You are looking nice today!\n"
     ]
    }
   ],
   "source": [
    "print(\"Secure Login\")\n",
    "username = input(\"What is your username?\")\n",
    "password = input(\"What is your password?\")\n",
    "\n",
    "if username == \"David\" and password == \"PyTh0nR*cks\":\n",
    "  print(\"Welcome, David! You are looking nice today!\")\n",
    "elif username == \"Becky\" and password == \"Repl!t4evEr\":\n",
    "  print(\"Hi Becky! Love your hair today!\")\n",
    "elif username == \"Bill\" and password == \"SmashTHEb*gs!\":\n",
    "  print(\"Yo! Bill! What up?!\")\n",
    "else:\n",
    "  print(\"You do not have access. Go away!\")"
   ]
  },
  {
   "cell_type": "markdown",
   "metadata": {},
   "source": [
    "# Day 7 Challenge\n",
    "\n",
    "Fake Fan Question Generator\n",
    "\n",
    "Wanna find out if someone else is a true superfan of the same show, movie or interest as you? Create a program that asks what someone is interested in and includes nested if statements to ask annoying follow-up questions to see if someone is the real deal!\n",
    "\n",
    "Make sure you include multiple if/elif statements and nested if statements too!"
   ]
  },
  {
   "cell_type": "code",
   "execution_count": 9,
   "metadata": {},
   "outputs": [
    {
     "name": "stdout",
     "output_type": "stream",
     "text": [
      "Are you a superfan of 'The Big Bang Theory' or a fake fan? \n",
      "\n",
      "Answer these questions to find out.\n",
      "Wrong!\n",
      "You got it\n"
     ]
    }
   ],
   "source": [
    "print (\"Are you a superfan of 'The Big Bang Theory' or a fake fan? \")\n",
    "print()\n",
    "print(\"Answer these questions to find out.\")\n",
    "\n",
    "Glasses = input(\"Does someone wear glasses? \")\n",
    "if Glasses == \"yes\":\n",
    "  print(\"Correct!\")\n",
    "else:\n",
    "  print(\"Wrong!\")\n",
    "  WhoGlasses = input(\"And who wears glasses? \")\n",
    "  if WhoGlasses == \"Leonard\":\n",
    "    print(\"You got it\")\n",
    "  else:\n",
    "    print(\"Try again!\")"
   ]
  },
  {
   "cell_type": "markdown",
   "metadata": {},
   "source": [
    "# Day 8 Challenge\n",
    "## Affirmations (or Insults) Generator\n",
    "\n",
    "Today's focus is using all the skills you have learned so far:\n",
    "- Input and output\n",
    "- Concatenation\n",
    "- If statements\n",
    "- Nested if statements\n",
    "\n",
    "Build a custom affirmations generator to give the user a customized affirmation each day of the week.\n",
    "\n",
    "### Instructions\n",
    "\n",
    "1. Ask the user for their name, the current day of the week, and a few of their favorite things.\n",
    "2. Use this information to build a unique affirmation for each day of the week.\n",
    "3. Use concatenation to generate the affirmation.\n",
    "4. Ensure your if statements are case-insensitive."
   ]
  },
  {
   "cell_type": "code",
   "execution_count": 10,
   "metadata": {},
   "outputs": [
    {
     "name": "stdout",
     "output_type": "stream",
     "text": [
      "Hello. Welcome to your daily affirmation generator.\n",
      "You look great in that color david\n"
     ]
    }
   ],
   "source": [
    "\n",
    "print(\"Hello. Welcome to your daily affirmation generator.\")\n",
    "name = input(\"What is your name? \")\n",
    "\n",
    "if name ==\"Mark\" or name == \"mark\":\n",
    " DOW = input(\"What is the day of the week? \")\n",
    " if DOW == \"monday\" or DOW == \"Monday\":\n",
    "   print(\"It is going to be a great Monday\", name)\n",
    " if DOW == \"tuesday\" or DOW == \"Tuesday\":\n",
    "   print(\"What a wonderful Tuesday it is\", name)\n",
    " if DOW == \"wednesday\" or DOW == \"Wednesday\":\n",
    "   print(\"Happy Hump Day\", name)\n",
    " if DOW == \"thursday\" or DOW == \"Thursday\":\n",
    "   print(name,\"your week is almost over!\")\n",
    " if DOW == \"friday\" or DOW == \"Friday\":\n",
    "   print(name, \"It's FRIDAY!\")\n",
    "\n",
    "elif name == \"David\" or name== \"david\":\n",
    " DOW = input(\"What is the day of the week? \")\n",
    " if DOW == \"monday\" or DOW == \"Monday\":\n",
    "   print(\"It is going to be a great Monday\", name)\n",
    " if DOW == \"tuesday\" or DOW == \"Tuesday\":\n",
    "   print(\"You look great in that color\", name)\n",
    " if DOW == \"wednesday\" or DOW == \"Wednesday\":\n",
    "   print(\"You look chipper today\", name)\n",
    " if DOW == \"thursday\" or DOW == \"Thursday\":\n",
    "   print(name,\"you are doing a great job!\")\n",
    " if DOW == \"friday\" or DOW == \"Friday\":\n",
    "   print(name, \"it's FRIDAY!\")\n",
    "else:\n",
    " print(\"I do not know your name, but I hope you are having a great day!\")"
   ]
  },
  {
   "cell_type": "markdown",
   "metadata": {},
   "source": [
    "# Day 9 Challenge\n",
    "## Generation Generator\n",
    "\n",
    "What generation are you a part of?\n",
    "\n",
    "### Generation List\n",
    "\n",
    "| Generation Name  | Starting Birth Year | Ending Birth Year |\n",
    "|------------------|---------------------|-------------------|\n",
    "| Traditionalists  | 1925                | 1946              |\n",
    "| Baby Boomers     | 1947                | 1964              |\n",
    "| Generation X     | 1965                | 1981              |\n",
    "| Millennials      | 1982                | 1995              |\n",
    "| Generation Z     | 1996                | 2015              |\n",
    "\n",
    "### Instructions\n",
    "\n",
    "1. Ask the user for the year they were born.\n",
    "2. Use their answer to determine and tell them the generation they are a part of.\n",
    "3. Add emojis or a fun statement to go along with the answers if you like."
   ]
  },
  {
   "cell_type": "code",
   "execution_count": 11,
   "metadata": {},
   "outputs": [
    {
     "name": "stdout",
     "output_type": "stream",
     "text": [
      "Millenials! The age of tech!\n"
     ]
    }
   ],
   "source": [
    "birthYear = int(input(\"What year were you born? \"))\n",
    "if birthYear <= 1946:\n",
    "  print(\"You are a Traditionalist.\")\n",
    "elif birthYear >= 1947 and birthYear <= 1964:\n",
    "  print(\"Hey, Baby Boomer! How you doing?\")\n",
    "elif birthYear >= 1965 and birthYear <= 1981:\n",
    "  print(\"Gen X! What's up?\")\n",
    "elif birthYear >= 1982 and birthYear <= 1995:\n",
    "  print(\"Millenials! The age of tech!\")\n",
    "elif birthYear >= 1996:\n",
    "  print(\"Hey, Gen Z! TikTok much?\")\n",
    "else: \n",
    "  print(\"Try again!\")"
   ]
  },
  {
   "cell_type": "markdown",
   "metadata": {},
   "source": [
    "# Day 10 Challenge\n",
    "## Extend Your Bill Calculator\n",
    "\n",
    "Add a tip function that adds the total tip to the bill before splitting it equally between the people.\n",
    "\n",
    "### Instructions\n",
    "\n",
    "1. Ask the user for the total bill amount.\n",
    "2. Ask what percentage of tip they will leave to be added to the bill total.\n",
    "3. Calculate the total bill with the tip added.\n",
    "4. Ask the user how many people are splitting the bill.\n",
    "5. Divide the total bill by the number of people to get the amount each person owes.\n",
    "\n",
    "### Example Code\n",
    "\n",
    "```python\n",
    "myBill = float(input(\"What was the bill?: \"))\n",
    "numberOfPeople = int(input(\"How many people?: \"))\n",
    "answer = myBill / numberOfPeople\n",
    "print(\"You all owe\", answer)\n",
    "```"
   ]
  },
  {
   "cell_type": "code",
   "execution_count": 13,
   "metadata": {},
   "outputs": [
    {
     "name": "stdout",
     "output_type": "stream",
     "text": [
      "You all owe 15.0\n"
     ]
    }
   ],
   "source": [
    "myBill = float(input(\"What was the bill?: \"))\n",
    "numberOfPeople = int(input(\"How many people?: \"))\n",
    "tip = int(input(\"What percent tip do you want to leave: 15, 18, or 20 percent? \"))\n",
    "\n",
    "bill_with_tip = tip / 100 * myBill + myBill\n",
    "bill_per_person = bill_with_tip / numberOfPeople\n",
    "final_amount = round(bill_per_person, 2)\n",
    "\n",
    "print(\"You all owe\", final_amount)"
   ]
  },
  {
   "cell_type": "markdown",
   "metadata": {},
   "source": [
    "# Day 11 Challenge\n",
    "## How Many Seconds Are in a Year?\n",
    "\n",
    "Use the power of breaking a program down into its parts. We could Google this, but why not make a program for this instead.\n",
    "\n",
    "### Time Conversions\n",
    "\n",
    "- 60 seconds = 1 minute\n",
    "- 60 minutes = 1 hour\n",
    "- 24 hours = 1 day\n",
    "- 31 days = 1 month\n",
    "- 12 months = 1 year\n",
    "- 365 days = 1 year\n",
    "- 366 days = 1 leap year (this is every four years)\n",
    "\n",
    "### Instructions\n",
    "\n",
    "1. Multiply the necessary numbers to figure out how many seconds are in a year.\n",
    "2. Consider how the math would be different for a leap year.\n",
    "3. Use input and if statements to add the extra day for a leap year.\n",
    "4. Decide if you need `int` or `float` for your input."
   ]
  },
  {
   "cell_type": "code",
   "execution_count": 16,
   "metadata": {},
   "outputs": [
    {
     "name": "stdout",
     "output_type": "stream",
     "text": [
      "Number of seconds in a year are 31536000\n"
     ]
    }
   ],
   "source": [
    "\n",
    "days_this_year = int(input(\"How many days are in this year?\"))\n",
    "\n",
    "days_in_year = 365\n",
    "days_in_leapyear = 366\n",
    "hours_in_day = 24\n",
    "minutes_in_hour = 60\n",
    "seconds_in_minute = 60\n",
    "\n",
    "\n",
    "result = days_in_year * hours_in_day * minutes_in_hour * seconds_in_minute\n",
    "\n",
    "leapyear_result = days_in_leapyear * hours_in_day * minutes_in_hour * seconds_in_minute\n",
    "\n",
    "\n",
    "if days_this_year == 366:\n",
    "  print(\"Number of seconds in a leap year are\", leapyear_result)\n",
    "else:\n",
    "  print(\"Number of seconds in a year are\", result)"
   ]
  },
  {
   "cell_type": "markdown",
   "metadata": {},
   "source": [
    "# Day 12 Challenge\n",
    "## Fix the Code\n",
    "\n",
    "### Original Code with Errors\n",
    "\n",
    "```python\n",
    "print(\"100 Days of Code QUIZ\")\n",
    "print()\n",
    "print(\"How many can you answer correctly?)\n",
    "ans1 = (\"What language are we writing in?\")\n",
    "if ans1 == \"python\":\n",
    "  print(\"Correct\")\n",
    "else:\n",
    "  print(\"Nope🙈\n",
    "ans2 = input(\"Which lesson number is this?\")\n",
    "if(ans2>12):\n",
    "print(\"We're not quite that far yet\")\n",
    "else:\n",
    "  print(\"We've gone well past that!\")\n",
    "elif(ans2==12):\n",
    "  print(\"That's right!\")\n",
    "```"
   ]
  },
  {
   "cell_type": "code",
   "execution_count": 17,
   "metadata": {},
   "outputs": [
    {
     "name": "stdout",
     "output_type": "stream",
     "text": [
      "100 Days of Code QUIZ\n",
      "\n",
      "How many can you answer correctly?\n",
      "Nope\n",
      "That's right!\n"
     ]
    }
   ],
   "source": [
    "#Corrected code\n",
    "\n",
    "print(\"100 Days of Code QUIZ\")\n",
    "print()\n",
    "print(\"How many can you answer correctly?\")\n",
    "ans1 = input(\"What language are we writing in?\")\n",
    "if ans1 == \"python\":\n",
    "  print(\"Correct\")\n",
    "else:\n",
    "  print(\"Nope\")\n",
    "ans2 = int(input(\"Which lesson number is this?\"))\n",
    "if(ans2 > 12):\n",
    "  print(\"We're not quite that far yet\")\n",
    "elif(ans2 == 12):\n",
    "  print(\"That's right!\")\n",
    "else:\n",
    "  print(\"We've gone well past that!\")"
   ]
  },
  {
   "cell_type": "markdown",
   "metadata": {},
   "source": [
    "# Day 13 Challenge\n",
    "## Grade Generator\n",
    "\n",
    "This project is going to take some time (and some hard thinking) but will be brilliant once you have it working!\n",
    "\n",
    "### Instructions\n",
    "\n",
    "1. Ask the user to type in the name of a test, the maximum score they could receive, and how many points they received.\n",
    "   - For example, your test could be called \"Python Skills\" and the maximum score is 50 points and the user receives 30 points out of 50 possible points.\n",
    "   - What do you need to add to your input when using whole numbers?\n",
    "\n",
    "2. Figure out the percentage the user received and round to 2 decimal places.\n",
    "   - You will need to divide to determine the total score the user received. Don't forget to round.\n",
    "\n",
    "3. Use if/elif statements to show users the letter grade they received.\n",
    "   - Think about the symbols: `<`, `>`, etc. Don't forget to restate the full question with the variable name (like you did on day 8).\n",
    "\n",
    "4. At the end, the user should see the letter grade they received and the percentage correct.\n",
    "   - Add in emojis to celebrate their good grade or different colors depending on what you think is a good or bad final grade.\n",
    "\n",
    "### Grading Scale\n",
    "\n",
    "| Letter Grade | Percentage |\n",
    "|--------------|-------------|\n",
    "| A+           | 90-100      |\n",
    "| A            | 80-89       |\n",
    "| B            | 70-79       |\n",
    "| C            | 60-69       |\n",
    "| D            | 50-59       |\n",
    "| U            | under 50    |"
   ]
  },
  {
   "cell_type": "code",
   "execution_count": 18,
   "metadata": {},
   "outputs": [
    {
     "name": "stdout",
     "output_type": "stream",
     "text": [
      "Exam Grade Calculator\n",
      "\n",
      "\n",
      "\n",
      "You got 60.0 %\n",
      "Your letter grade is a C.\n"
     ]
    }
   ],
   "source": [
    "print(\"Exam Grade Calculator\")\n",
    "print()\n",
    "name_of_exam = input(\"Name of exam: \")\n",
    "print()\n",
    "total_score = int(input(\"Max. Possible Score:\"))\n",
    "your_score = int(input(\"Your score: \"))\n",
    "print()\n",
    "\n",
    "\n",
    "number_score = float(your_score / total_score)\n",
    "final_number = round(number_score, 2)\n",
    "final_perc = round(float(your_score / total_score)*100, 2)\n",
    "\n",
    "print(\"You got\",final_perc,\"%\")\n",
    "\n",
    "if final_number >= .90:\n",
    "  print(\"Your letter score is an A+\")\n",
    "elif final_number >= .80 and final_number <= .89:\n",
    "  print(\"Your letter grade is an A-.\")\n",
    "elif final_number >= .70 and final_number <= .79:\n",
    "  print(\"Your letter score is a B.\")\n",
    "elif final_number >= .60 and final_number <= .69:\n",
    "  print(\"Your letter grade is a C.\")\n",
    "elif final_number >= .50 and final_number <= .59:\n",
    "  print(\"Your letter grade is a D.\")\n",
    "elif final_number <= .49:\n",
    "  print(\"Your letter grade is a U.\")\n",
    "else: \n",
    "  print(\"Try again!\")"
   ]
  },
  {
   "cell_type": "markdown",
   "metadata": {},
   "source": [
    "# Day 14 Challenge\n",
    "## 2 Player 🪨📄✂️\n",
    "\n",
    "Are you ready for your first BIG project?!!\n",
    "\n",
    "### Instructions\n",
    "\n",
    "1. Use the following code to ensure that whenever you use input, each player cannot see what the other player typed in:\n",
    "   ```python\n",
    "   from getpass import getpass as input\n",
    "   ```\n",
    "\n",
    "2. For this version, you have two players: Player 1 and Player 2.\n",
    "3. Create if statements (and probably nesting) to decide who has won, lost, or if the game is a tie.\n",
    "4. Make it fun and add emojis or epic comments as your players battle it out.\n",
    "5. Encourage players to use `R`, `P`, or `S` for their choices. Ensure the user can still input an option even if it is typed in wrong.\n",
    "6. Restate the full question when using logical conditions."
   ]
  },
  {
   "cell_type": "code",
   "execution_count": 23,
   "metadata": {},
   "outputs": [
    {
     "name": "stdout",
     "output_type": "stream",
     "text": [
      "E P I C    🪨  📄 ✂️    B A T T L E \n",
      "\n",
      "Select your move (R, P or S)\n",
      "\n",
      "\n",
      "\n",
      "You both picked Rock, draw!\n"
     ]
    }
   ],
   "source": [
    "from getpass import getpass as secret_input\n",
    "\n",
    "print(\"E P I C    🪨  📄 ✂️    B A T T L E \")\n",
    "print()\n",
    "print(\"Select your move (R, P or S)\")\n",
    "print()\n",
    "\n",
    "player1Move = secret_input(\"Player 1 > \")\n",
    "print()\n",
    "player2Move = secret_input(\"Player 2 > \")\n",
    "print()\n",
    "\n",
    "if player1Move==\"R\":\n",
    "  if player2Move==\"R\":\n",
    "    print(\"You both picked Rock, draw!\")\n",
    "  elif player2Move==\"S\":\n",
    "    print(\"Player1 smashed Player2's Scissors into dust with their Rock!\")\n",
    "  elif player2Move==\"P\":\n",
    "    print(\"Player1's Rock is smothered by Player2's Paper!\")\n",
    "  else:\n",
    "    print(\"Invalid Move Player 2!\")\n",
    "elif player1Move==\"P\":\n",
    "  if player2Move==\"R\":\n",
    "    print(\"Player2's Rock is smothered by Player1's Paper!\")\n",
    "  elif player2Move==\"S\":\n",
    "    print(\"Player1's Paper is cut into tiny pieces by Player2's Scissors!\")\n",
    "  elif player2Move==\"P\":\n",
    "    print(\"Two bits of paper flap at each other. Dissapointing. Draw.\")\n",
    "  else:\n",
    "    print(\"Invalid Move Player 2!\")\n",
    "elif player1Move==\"S\":\n",
    "  if player2Move==\"R\":\n",
    "    print(\"Player 2's Rock makes metal-dust out of Player1's Scissors\")\n",
    "  elif player2Move==\"S\":\n",
    "    print(\"Ka-Shing! Scissors bounce off each other like a dodgy sword fight! Draw.\")\n",
    "  elif player2Move==\"P\":\n",
    "    print(\"Player1's Scissors make confetti out of Player2's paper!\")\n",
    "  else:\n",
    "    print(\"Invalid Move Player 2!\")\n",
    "else:\n",
    "  print(\"Invalid Move Player 1!\")"
   ]
  },
  {
   "cell_type": "markdown",
   "metadata": {},
   "source": [
    "# Day 15 Challenge\n",
    "## Animal Sound Generator\n",
    "\n",
    "Write a program that loops. Inside the loop, ask the user what animal sound they want to hear.\n",
    "\n",
    "### Example\n",
    "\n",
    "```\n",
    "What animal do you want?: Cow\n",
    "A cow goes moo.\n",
    "Do you want to exit?: no\n",
    "What animal do you want?: A Lesser Spotted lemur\n",
    "Ummm...the Lesser Spotted Lemur goes awooga.\n",
    "Do you want to exit?: yes\n",
    "```\n",
    "\n",
    "### Instructions\n",
    "\n",
    "1. Start with a `while` loop.\n",
    "2. Add nested `if` statements inside the `while` loop.\n",
    "3. End with an option for the user to exit the loop."
   ]
  },
  {
   "cell_type": "code",
   "execution_count": 3,
   "metadata": {},
   "outputs": [
    {
     "name": "stdout",
     "output_type": "stream",
     "text": [
      "🐮 Moo\n",
      "🐷 Oink\n",
      "🦆 Quack\n",
      "🐱 Meow\n"
     ]
    }
   ],
   "source": [
    "exit = \"no\"\n",
    "\n",
    "while exit == \"no\":\n",
    "    animal_sound = input(\"What animal sound do you want to hear?\").strip().lower()\n",
    "    \n",
    "    if animal_sound == \"cow\":\n",
    "        print(\"🐮 Moo\")\n",
    "    elif animal_sound == \"pig\":\n",
    "        print(\"🐷 Oink\")\n",
    "    elif animal_sound == \"sheep\":\n",
    "        print(\"🐑 Baaa\")\n",
    "    elif animal_sound == \"duck\":\n",
    "        print(\"🦆 Quack\")\n",
    "    elif animal_sound == \"dog\":\n",
    "        print(\"🐶 Woof\")\n",
    "    elif animal_sound == \"cat\":\n",
    "        print(\"🐱 Meow\")\n",
    "    else: \n",
    "        print(\"I don't know that animal sound. Try again.\")\n",
    "    \n",
    "    exit = input(\"Do you want to exit? (yes/no): \").strip().lower()"
   ]
  },
  {
   "cell_type": "markdown",
   "metadata": {},
   "source": [
    "# Day 16 Challenge\n",
    "## Name the Lyrics Game\n",
    "\n",
    "Create a \"Name the Lyrics\" game. Write your favorite song lyrics with a word or two missing. The user has to figure out the correct song lyric in as few attempts as possible. Find the true lyric master among you!\n",
    "\n",
    "### Example\n",
    "\n",
    "```\n",
    "Fill in the blank lyrics!\n",
    "(Type in the blank lyrics and see if you are as cool as me.)\n",
    "Never going to ______ you up.\n",
    "put\n",
    "Nope, try again.\n",
    "Never going to ______ you up.\n",
    "let\n",
    "Nope, try again.\n",
    "Never going to ______ you up.\n",
    "give\n",
    "Well done! It only took you 3 attempts.\n",
    "```\n",
    "\n",
    "### Instructions\n",
    "\n",
    "1. Use a `while True` loop to keep asking the user for the missing lyrics.\n",
    "2. Place your `break` statement after the code identifying the correct lyric answer."
   ]
  },
  {
   "cell_type": "code",
   "execution_count": 4,
   "metadata": {},
   "outputs": [
    {
     "name": "stdout",
     "output_type": "stream",
     "text": [
      "Welcome to Name the Song Lyric\n",
      "\n",
      "Figure out the missing word as quickly as you can!\n",
      "\n",
      "Nope! Try again!\n",
      "Nope! Try again!\n",
      "You got it!\n",
      "Thanks for playing!\n",
      "You got the correct lyrics in 3 attempt(s).\n"
     ]
    }
   ],
   "source": [
    "print(\"Welcome to Name the Song Lyric\")\n",
    "print()\n",
    "print(\"Figure out the missing word as quickly as you can!\")\n",
    "print()\n",
    "\n",
    "counter = 1\n",
    "while True:\n",
    "  lyrics = input(\"I don't wanna ______ a thing. \")\n",
    "  if lyrics == \"miss\" or lyrics == \"Miss\":\n",
    "    print(\"You got it!\")\n",
    "  else:\n",
    "    print(\"Nope! Try again!\")\n",
    "    counter +=1\n",
    "  if lyrics == \"miss\":\n",
    "    break\n",
    "print(\"Thanks for playing!\")\n",
    "\n",
    "print(\"You got the correct lyrics in\", counter, \"attempt(s).\")"
   ]
  },
  {
   "cell_type": "markdown",
   "metadata": {},
   "source": [
    "# Day 17 Challenge\n",
    "## Enhanced Rock, Paper, Scissors Game\n",
    "\n",
    "Go find your Rock, Paper, Scissors game from Day 14 and add the code here before you start. We are going to build upon this game.\n",
    "\n",
    "### Instructions\n",
    "\n",
    "1. Use a loop to repeat the game for multiple rounds.\n",
    "2. Keep score of player 1 and player 2.\n",
    "3. End the game when a player wins three rounds using `break` and `exit`.\n",
    "4. Use `continue` to restart the round until one player wins three rounds.\n",
    "5. Your last bit of code should be the results of which player won.\n",
    "6. Create a counting system using a variable and `+=` to keep track of the winner for each round.\n",
    "7. The `while` loop needs to be at the start of the game.\n",
    "8. Make sure you include print statements saying each player's final score at the end.\n",
    "9. Create an `if` statement to end the loop.\n"
   ]
  },
  {
   "cell_type": "code",
   "execution_count": 8,
   "metadata": {},
   "outputs": [
    {
     "name": "stdout",
     "output_type": "stream",
     "text": [
      "E P I C    🪨  📄 ✂️    B A T T L E \n",
      "\n",
      "Select your move (R, P or S)\n",
      "\n",
      "\n",
      "\n",
      "Player1's Rock is smothered by Player2's Paper!\n",
      "Player 1 has 0 wins.\n",
      "Player 2 has 1 wins.\n",
      "\n",
      "\n",
      "Player1's Rock is smothered by Player2's Paper!\n",
      "Player 1 has 0 wins.\n",
      "Player 2 has 2 wins.\n",
      "\n",
      "\n",
      "Player1's Rock is smothered by Player2's Paper!\n",
      "Player 1 has 0 wins.\n",
      "Player 2 has 3 wins.\n",
      "Thanks for playing!\n"
     ]
    }
   ],
   "source": [
    "from getpass import getpass as secret_input\n",
    "\n",
    "\n",
    "print(\"E P I C    🪨  📄 ✂️    B A T T L E \")\n",
    "print()\n",
    "print(\"Select your move (R, P or S)\")\n",
    "print()\n",
    "#hint: create these variables outside loop and then add += with correct player to keep score throughout\n",
    "player1_score = 0\n",
    "player2_score = 0\n",
    "#hint: that the while loop needs to go around all code and then highlight the rest of the code and hit tab once. \n",
    "while True: \n",
    "  player1Move = secret_input(\"Player 1 > \")\n",
    "  print()\n",
    "  player2Move = secret_input(\"Player 2 > \")\n",
    "  print()\n",
    "  \n",
    "  if(player1Move==\"R\"):\n",
    "    if(player2Move==\"R\"):\n",
    "      print(\"You both picked Rock, draw!\")\n",
    "    elif(player2Move==\"S\"):\n",
    "      print(\"Player1 smashed Player2's Scissors into dust with their Rock!\")\n",
    "      player1_score += 1\n",
    "    elif(player2Move==\"P\"):\n",
    "      print(\"Player1's Rock is smothered by Player2's Paper!\")\n",
    "      player2_score += 1\n",
    "  elif(player1Move==\"P\"):\n",
    "    if(player2Move==\"R\"):\n",
    "      print(\"Player2's Rock is smothered by Player1's Paper!\")\n",
    "      player1_score += 1\n",
    "    elif(player2Move==\"S\"):\n",
    "      print(\"Player1's Paper is cut into tiny pieces by Player2's Scissors!\")\n",
    "      player2_score += 1\n",
    "    elif(player2Move==\"P\"):\n",
    "      print(\"Two bits of paper flap at each other. Dissapointing. Draw.\")\n",
    "  elif(player1Move==\"S\"):\n",
    "    if(player2Move==\"R\"):\n",
    "      print(\"Player 2's Rock makes metal-dust out of Player1's Scissors\")\n",
    "      player2_score += 1\n",
    "    elif(player2Move==\"S\"):\n",
    "      print(\"Ka-Shing! Scissors bounce off each other like a dodgy sword fight! Draw.\")\n",
    "    elif(player2Move==\"P\"):\n",
    "      print(\"Player1's Scissors make confetti out of Player2's paper!\")\n",
    "      player1_score += 1\n",
    "  \n",
    "# hint: make sure you add player scores at the end of all the options but still inside the while loop.\n",
    "  print(\"Player 1 has\", player1_score, \"wins.\")\n",
    "  print(\"Player 2 has\", player2_score, \"wins.\")\n",
    "\n",
    "  if player1_score==3 or player2_score==3:\n",
    "    print(\"Thanks for playing!\")\n",
    "    break  #We could use exit() here instead of break if we wanted to exit the program\n",
    "  else:\n",
    "    continue"
   ]
  },
  {
   "cell_type": "markdown",
   "metadata": {},
   "source": [
    "# Day 18 Challenge\n",
    "## Guess the Number Game\n",
    "\n",
    "We are going to build a \"Guess the Number\" guessing game.\n",
    "\n",
    "### Instructions\n",
    "\n",
    "1. Start by picking a number between 0 and 1,000,000. This will be your first variable.\n",
    "2. Create a variable for that number.\n",
    "3. Create a `while` loop to keep asking the user to guess your number.\n",
    "4. If they are too low, tell them \"too low.\" If they guess too high, tell them \"too high.\"\n",
    "5. Include `if` statements with logical operators to compare the user's guess with the correct number.\n",
    "6. If the user guesses correctly, tell them they are a winner (maybe add a fun emoji too!).\n",
    "7. If they are a winner, exit the loop.\n",
    "8. Count the number of attempts it took for the user to guess the number. Show the number of attempts after they get the answer correct.\n",
    "9. Create a counter before the `while` loop and increment it using `+=` in the loop.\n",
    "10. Extra challenge: If the user types a negative number, exit the program."
   ]
  },
  {
   "cell_type": "code",
   "execution_count": 4,
   "metadata": {},
   "outputs": [
    {
     "name": "stdout",
     "output_type": "stream",
     "text": [
      "Welcome to Guess the Number.\n",
      "\n",
      "Guess a number between 1 and 1,000,000 and I will tell you if you are too low, too high, or get it correct.\n",
      "\n",
      "Let's play!\n",
      "Now we'll never know what the answer is …\n"
     ]
    }
   ],
   "source": [
    "print(\"Welcome to Guess the Number.\")\n",
    "print()\n",
    "print(\"Guess a number between 1 and 1,000,000 and I will tell you if you are too low, too high, or get it correct.\")\n",
    "print()\n",
    "print(\"Let's play!\")\n",
    "\n",
    "correct_number = 2300\n",
    "attempt = 0\n",
    "\n",
    "while True:\n",
    "    try:\n",
    "        user_guess = int(input(\"Pick a number between 1 and 1,000,000: \"))\n",
    "        \n",
    "        if user_guess < 0:\n",
    "            print(\"Now we'll never know what the answer is …\")\n",
    "            break\n",
    "        \n",
    "        attempt += 1\n",
    "        \n",
    "        if user_guess < correct_number:\n",
    "            print(\"That number is too low. Try again!\")\n",
    "        elif user_guess > correct_number:\n",
    "            print(\"That number is too high. Try again!\")\n",
    "        else:\n",
    "            print(\"You are a winner! 🥳🥳\")\n",
    "            break\n",
    "    except ValueError:\n",
    "        print(\"That is not a number I recognize. Please enter a valid number.\")\n",
    "\n",
    "if user_guess >= 0:\n",
    "    print(f\"It took you {attempt} attempt(s) to get the correct answer.\")"
   ]
  },
  {
   "cell_type": "markdown",
   "metadata": {},
   "source": [
    "# Day 19 Challenge\n",
    "## Loan Calculator\n",
    "\n",
    "You are going to create a loan calculator that shows how much money you owe for a loan of $1,000 with a 5% APR (Annual Percentage Rate) over 10 years.\n",
    "\n",
    "### Instructions\n",
    "\n",
    "1. Start with a loan amount of $1,000.\n",
    "2. Each year, the amount of money you owe will increase by 5%.\n",
    "3. Use a `for` loop to calculate the total amount owed over 10 years.\n",
    "4. Print the total amount owed after 10 years."
   ]
  },
  {
   "cell_type": "code",
   "execution_count": 5,
   "metadata": {},
   "outputs": [
    {
     "name": "stdout",
     "output_type": "stream",
     "text": [
      "Year 1 is 1050.0\n",
      "Year 2 is 1102.5\n",
      "Year 3 is 1157.62\n",
      "Year 4 is 1215.51\n",
      "Year 5 is 1276.28\n",
      "Year 6 is 1340.1\n",
      "Year 7 is 1407.1\n",
      "Year 8 is 1477.46\n",
      "Year 9 is 1551.33\n",
      "Year 10 is 1628.89\n"
     ]
    }
   ],
   "source": [
    "loan = 1000\n",
    "apr = 0.05\n",
    "for i in range(10):\n",
    "  loan+=(loan*apr)\n",
    "  print(\"Year\", i+1, \"is\", round(loan,2))"
   ]
  },
  {
   "cell_type": "markdown",
   "metadata": {},
   "source": [
    "# Day 20 Challenge\n",
    "## List Generator\n",
    "\n",
    "Ask the user to list a starting number, ending number, and increment to use. Display an answer based on the users' answers using the `input` command.\n",
    "\n",
    "### Instructions\n",
    "\n",
    "1. Ask the user for a starting number, ending number, and increment.\n",
    "2. Use these inputs to generate a list of numbers.\n",
    "3. Display the list of numbers.\n",
    "\n",
    "### Example\n",
    "\n",
    "```\n",
    "Start at: 200\n",
    "End before: 300\n",
    "Increment between values: 20\n",
    "200\n",
    "220\n",
    "240\n",
    "260\n",
    "280\n",
    "```"
   ]
  },
  {
   "cell_type": "code",
   "execution_count": 6,
   "metadata": {},
   "outputs": [
    {
     "name": "stdout",
     "output_type": "stream",
     "text": [
      "Welcome to my number list generator.\n",
      "\n",
      "You are going to give me a number you want to start with, an ending number, and by how many you want me to add each time.\n",
      "\n",
      "1\n",
      "3\n",
      "5\n",
      "7\n",
      "9\n"
     ]
    }
   ],
   "source": [
    "print(\"Welcome to my number list generator.\")\n",
    "print()\n",
    "print(\"You are going to give me a number you want to start with, an ending number, and by how many you want me to add each time.\")\n",
    "print()\n",
    "\n",
    "x = int(input(\"What number do you want to start with? \"))\n",
    "y = int(input(\"What number do you want to end with? \"))\n",
    "z = int(input(\"How many should I add each time? \"))\n",
    "\n",
    "for i in range(x, y, z):\n",
    "  print(i)"
   ]
  },
  {
   "cell_type": "markdown",
   "metadata": {},
   "source": [
    "## Acknowledgements\n",
    "\n",
    "This project is inspired by the 100 Days of Code challenge on Replit. Please visit [Replit](https://replit.com/) for more information and resources."
   ]
  }
 ],
 "metadata": {
  "kernelspec": {
   "display_name": "Python 3",
   "language": "python",
   "name": "python3"
  },
  "language_info": {
   "codemirror_mode": {
    "name": "ipython",
    "version": 3
   },
   "file_extension": ".py",
   "mimetype": "text/x-python",
   "name": "python",
   "nbconvert_exporter": "python",
   "pygments_lexer": "ipython3",
   "version": "3.12.6"
  }
 },
 "nbformat": 4,
 "nbformat_minor": 2
}
